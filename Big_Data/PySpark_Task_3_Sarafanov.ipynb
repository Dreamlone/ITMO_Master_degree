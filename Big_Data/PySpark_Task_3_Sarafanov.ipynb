{
 "cells": [
  {
   "cell_type": "code",
   "execution_count": 1,
   "metadata": {},
   "outputs": [],
   "source": [
    "import findspark\n",
    "findspark.init()\n",
    "import pyspark\n",
    "from pyspark.sql.functions import *\n",
    "from pyspark.sql.functions import udf\n",
    "import emojis"
   ]
  },
  {
   "cell_type": "code",
   "execution_count": 2,
   "metadata": {},
   "outputs": [],
   "source": [
    "from pyspark.sql import SparkSession\n",
    "\n",
    "# Инициализируем SparkSession\n",
    "spark = SparkSession.builder \\\n",
    "    .master('local') \\\n",
    "    .appName('Dreamlone') \\\n",
    "    .config('spark.executor.memory', '4gb') \\\n",
    "    .config(\"spark.cores.max\", \"6\") \\\n",
    "    .getOrCreate()\n",
    "\n",
    "sc = spark.sparkContext\n",
    "\n",
    "# Используем SQLContext чтобы прочитать файл\n",
    "from pyspark.sql import SQLContext\n",
    "sqlContext = SQLContext(sc)"
   ]
  },
  {
   "cell_type": "markdown",
   "metadata": {},
   "source": [
    "# Task 3\n",
    "\n",
    "### get reposts of the original posts of the itmo group (posts.json) from user posts (the result should be similar to (group_post_id, Array (user_post_ids)))"
   ]
  },
  {
   "cell_type": "code",
   "execution_count": 3,
   "metadata": {},
   "outputs": [],
   "source": [
    "itmo_posts = sqlContext.read.parquet('./bigdata20/posts_api.parquet')\n",
    "fol_posts = spark.read.parquet(\"./bigdata20/followers_posts_api_final.parquet\")\n",
    "\n",
    "\n",
    "target = fol_posts.filter(fol_posts.copy_history.owner_id.getItem(0) == -94).select(\"key\", \"copy_history.id\", \"copy_history.owner_id\") \\\n",
    ".withColumn(\"owner_id\", element_at('owner_id',1)) \\\n",
    ".withColumn(\"id\", element_at('id',1)) \\\n",
    ".select(\"owner_id\",\"key\",\"id\") \\\n",
    ".selectExpr(\"cast(owner_id as string) owner_id\", \"cast(id as string) id\", \"key\")\n",
    "target.createOrReplaceTempView(\"df\")\n",
    "target = spark.sql(\"SELECT CONCAT(owner_id, '_',  id), key FROM df\").toDF(\"itmo_posts\",\"users_posts\")\n",
    "\n",
    "target.groupBy(\"itmo_posts\").agg(collect_set(\"users_posts\")).toDF(\"itmo_posts\",\"posts\")\n",
    "target.coalesce(1).write.json(\"./bigdata20/Answers/task3_itmo_reposts.json\")"
   ]
  }
 ],
 "metadata": {
  "kernelspec": {
   "display_name": "Python 3",
   "language": "python",
   "name": "python3"
  },
  "language_info": {
   "codemirror_mode": {
    "name": "ipython",
    "version": 3
   },
   "file_extension": ".py",
   "mimetype": "text/x-python",
   "name": "python",
   "nbconvert_exporter": "python",
   "pygments_lexer": "ipython3",
   "version": "3.7.3"
  }
 },
 "nbformat": 4,
 "nbformat_minor": 4
}
