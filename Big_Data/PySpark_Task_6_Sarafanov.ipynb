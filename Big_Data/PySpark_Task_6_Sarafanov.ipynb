{
 "cells": [
  {
   "cell_type": "code",
   "execution_count": 1,
   "metadata": {},
   "outputs": [],
   "source": [
    "import findspark\n",
    "findspark.init()\n",
    "import pyspark\n",
    "from pyspark.sql.functions import *\n",
    "from pyspark.sql.functions import udf\n",
    "from pyspark.sql.types import StringType, BooleanType, IntegerType\n",
    "from pyspark import *"
   ]
  },
  {
   "cell_type": "code",
   "execution_count": 2,
   "metadata": {},
   "outputs": [],
   "source": [
    "from pyspark.sql import SparkSession\n",
    "\n",
    "# Инициализируем sparkContext\n",
    "spark = SparkSession.builder \\\n",
    "    .master('local') \\\n",
    "    .appName('Dreamlone') \\\n",
    "    .config('spark.executor.memory', '4gb') \\\n",
    "    .config(\"spark.cores.max\", \"6\") \\\n",
    "    .getOrCreate()\n",
    "\n",
    "sc = spark.sparkContext\n",
    "\n",
    "# Используем SQLContext чтобы прочитать файл\n",
    "from pyspark.sql import SQLContext\n",
    "sqlContext = SQLContext(sc)"
   ]
  },
  {
   "cell_type": "markdown",
   "metadata": {},
   "source": [
    "# Task 6\n",
    "\n",
    "### Find fans/lovers. The idea is, if the user likes another posts, and its is not mutual, then the first fan/lover."
   ]
  },
  {
   "cell_type": "code",
   "execution_count": 3,
   "metadata": {},
   "outputs": [],
   "source": [
    "likes = sqlContext.read.parquet('./bigdata20/followers_posts_likes.parquet')\n",
    "likes_agg = likes.groupBy('likerId').agg(collect_set('ownerId').alias('who_liked'))\n",
    "\n",
    "likes_agg = likes_agg.selectExpr('likerId as liker_guy', 'who_liked as who_liked')\n",
    "joined_data = likes.join(likes_agg, likes.ownerId == likes_agg.liker_guy)                                                        \n",
    "\n",
    "# Создаем поле (столбец) Friends в котором содержится информация о том, являются ли пользователи друзьями\n",
    "friends = joined_data.withColumn(\"Friends\", expr(\"array_contains(who_liked, likerId)\"))\n",
    "fans = friends.filter(friends.Friends == False)\n",
    "\n",
    "fans.groupBy('ownerId').agg(collect_set('likerId').alias('fans')) \\\n",
    ".write.format(\"json\").save(\"./bigdata20/Answers/task6_fans.json\")"
   ]
  }
 ],
 "metadata": {
  "kernelspec": {
   "display_name": "Python 3",
   "language": "python",
   "name": "python3"
  },
  "language_info": {
   "codemirror_mode": {
    "name": "ipython",
    "version": 3
   },
   "file_extension": ".py",
   "mimetype": "text/x-python",
   "name": "python",
   "nbconvert_exporter": "python",
   "pygments_lexer": "ipython3",
   "version": "3.7.3"
  }
 },
 "nbformat": 4,
 "nbformat_minor": 4
}
