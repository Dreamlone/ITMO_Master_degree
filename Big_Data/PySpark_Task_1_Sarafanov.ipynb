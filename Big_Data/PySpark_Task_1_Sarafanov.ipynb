{
 "cells": [
  {
   "cell_type": "code",
   "execution_count": 3,
   "metadata": {},
   "outputs": [],
   "source": [
    "import findspark\n",
    "findspark.init()\n",
    "import pyspark\n",
    "from pyspark.sql.functions import *\n",
    "from pyspark.sql.functions import udf\n",
    "import emojis"
   ]
  },
  {
   "cell_type": "code",
   "execution_count": 4,
   "metadata": {},
   "outputs": [],
   "source": [
    "from pyspark.sql import SparkSession\n",
    "\n",
    "# Инициализируем SparkSession\n",
    "spark = SparkSession.builder \\\n",
    "    .master('local') \\\n",
    "    .appName('MySpark') \\\n",
    "    .config('spark.executor.memory', '4gb') \\\n",
    "    .config(\"spark.cores.max\", \"6\") \\\n",
    "    .getOrCreate()\n",
    "\n",
    "sc = spark.sparkContext\n",
    "\n",
    "# Используем SQLContext чтобы прочитать файл\n",
    "from pyspark.sql import SQLContext\n",
    "sqlContext = SQLContext(sc)\n",
    "\n",
    "# Разбираемся с JSON файлами - сохраняем их в бинарном формате parquet\n",
    "sqlContext.read.json('./bigdata20/followers_posts_api_final.json').write.parquet('./bigdata20/followers_posts_api_final.parquet')\n",
    "sqlContext.read.json('./bigdata20/posts_api.json').write.parquet('./bigdata20/posts_api.parquet')"
   ]
  },
  {
   "cell_type": "markdown",
   "metadata": {},
   "source": [
    "# Task 1\n",
    "\n",
    "### display the top 20 liked, commented, reposted posts by number (for all datasets with posts)"
   ]
  },
  {
   "cell_type": "markdown",
   "metadata": {},
   "source": [
    "## Dataset 1 - posts_api.parquet\n",
    "\n",
    "top 20 commented posts:"
   ]
  },
  {
   "cell_type": "code",
   "execution_count": 5,
   "metadata": {},
   "outputs": [],
   "source": [
    "from pyspark.sql.functions import desc\n",
    "# 20 наиболеее комментируемых постов\n",
    "top20_comments = sqlContext.read.parquet('./bigdata20/posts_api.parquet').select('key','comments.count').sort(desc(\"count\")).limit(20)\n",
    "top20_comments.write.json('./bigdata20/Answers/task1_dataset1_top20_comments.json')"
   ]
  },
  {
   "cell_type": "markdown",
   "metadata": {},
   "source": [
    "top 20 liked posts:"
   ]
  },
  {
   "cell_type": "code",
   "execution_count": 6,
   "metadata": {},
   "outputs": [],
   "source": [
    "top20_likes = sqlContext.read.parquet('./bigdata20/posts_api.parquet').select('key','likes.count').sort(desc(\"count\")).limit(20)\n",
    "top20_likes.write.json('./bigdata20/Answers/task1_dataset1_top20_likes.json')"
   ]
  },
  {
   "cell_type": "markdown",
   "metadata": {},
   "source": [
    "top 20 reposted posts:"
   ]
  },
  {
   "cell_type": "code",
   "execution_count": 7,
   "metadata": {},
   "outputs": [],
   "source": [
    "top20_reposts = sqlContext.read.parquet('./bigdata20/posts_api.parquet').select('key','reposts.count').sort(desc(\"count\")).limit(20)\n",
    "top20_reposts.write.json('./bigdata20/Answers/task1_dataset1_top20_reposts.json')"
   ]
  },
  {
   "cell_type": "markdown",
   "metadata": {},
   "source": [
    "## Dataset 2 - followers_posts_api_final.parquet\n",
    "\n",
    "top 20 commented posts:"
   ]
  },
  {
   "cell_type": "code",
   "execution_count": 8,
   "metadata": {},
   "outputs": [],
   "source": [
    "from pyspark.sql.functions import desc\n",
    "# 20 наиболеее комментируемых постов\n",
    "top20_comments = sqlContext.read.parquet('./bigdata20/followers_posts_api_final.parquet').select('key','comments.count').sort(desc(\"count\")).limit(20)\n",
    "top20_comments.write.json('./bigdata20/Answers/task1_dataset2_top20_comments.json')"
   ]
  },
  {
   "cell_type": "markdown",
   "metadata": {},
   "source": [
    "top 20 liked posts:"
   ]
  },
  {
   "cell_type": "code",
   "execution_count": 9,
   "metadata": {},
   "outputs": [],
   "source": [
    "top20_likes = sqlContext.read.parquet('./bigdata20/followers_posts_api_final.parquet').select('key','likes.count').sort(desc(\"count\")).limit(20)\n",
    "top20_likes.write.json('./bigdata20/Answers/task1_dataset2_top20_likes.json')"
   ]
  },
  {
   "cell_type": "markdown",
   "metadata": {},
   "source": [
    "top 20 reposted posts:"
   ]
  },
  {
   "cell_type": "code",
   "execution_count": 10,
   "metadata": {},
   "outputs": [],
   "source": [
    "top20_reposts = sqlContext.read.parquet('./bigdata20/followers_posts_api_final.parquet').select('key','reposts.count').sort(desc(\"count\")).limit(20)\n",
    "top20_reposts.write.json('./bigdata20/Answers/task1_dataset2_top20_reposts.json')"
   ]
  }
 ],
 "metadata": {
  "kernelspec": {
   "display_name": "Python 3",
   "language": "python",
   "name": "python3"
  },
  "language_info": {
   "codemirror_mode": {
    "name": "ipython",
    "version": 3
   },
   "file_extension": ".py",
   "mimetype": "text/x-python",
   "name": "python",
   "nbconvert_exporter": "python",
   "pygments_lexer": "ipython3",
   "version": "3.7.3"
  }
 },
 "nbformat": 4,
 "nbformat_minor": 4
}
