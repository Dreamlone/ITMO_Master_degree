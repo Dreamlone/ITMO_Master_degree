{
 "cells": [
  {
   "cell_type": "code",
   "execution_count": 1,
   "metadata": {},
   "outputs": [
    {
     "data": {
      "application/vnd.jupyter.widget-view+json": {
       "model_id": "93e6df8ce1d94326a3449dc8ffbb660f",
       "version_major": 2,
       "version_minor": 0
      },
      "text/plain": [
       "VBox()"
      ]
     },
     "metadata": {},
     "output_type": "display_data"
    },
    {
     "name": "stdout",
     "output_type": "stream",
     "text": [
      "Starting Spark application\n"
     ]
    },
    {
     "data": {
      "text/html": [
       "<table>\n",
       "<tr><th>ID</th><th>YARN Application ID</th><th>Kind</th><th>State</th><th>Spark UI</th><th>Driver log</th><th>Current session?</th></tr><tr><td>1</td><td>application_1592489630764_0002</td><td>pyspark</td><td>idle</td><td><a target=\"_blank\" href=\"http://ip-172-31-24-11.us-west-2.compute.internal:20888/proxy/application_1592489630764_0002/\">Link</a></td><td><a target=\"_blank\" href=\"http://ip-172-31-24-11.us-west-2.compute.internal:8042/node/containerlogs/container_1592489630764_0002_01_000001/livy\">Link</a></td><td>✔</td></tr></table>"
      ],
      "text/plain": [
       "<IPython.core.display.HTML object>"
      ]
     },
     "metadata": {},
     "output_type": "display_data"
    },
    {
     "data": {
      "application/vnd.jupyter.widget-view+json": {
       "model_id": "",
       "version_major": 2,
       "version_minor": 0
      },
      "text/plain": [
       "FloatProgress(value=0.0, bar_style='info', description='Progress:', layout=Layout(height='25px', width='50%'),…"
      ]
     },
     "metadata": {},
     "output_type": "display_data"
    },
    {
     "name": "stdout",
     "output_type": "stream",
     "text": [
      "SparkSession available as 'spark'.\n"
     ]
    },
    {
     "data": {
      "application/vnd.jupyter.widget-view+json": {
       "model_id": "",
       "version_major": 2,
       "version_minor": 0
      },
      "text/plain": [
       "FloatProgress(value=0.0, bar_style='info', description='Progress:', layout=Layout(height='25px', width='50%'),…"
      ]
     },
     "metadata": {},
     "output_type": "display_data"
    },
    {
     "name": "stdout",
     "output_type": "stream",
     "text": [
      "Welcome to my EMR Notebook!"
     ]
    }
   ],
   "source": [
    "print(\"Welcome to my EMR Notebook!\")"
   ]
  },
  {
   "cell_type": "markdown",
   "metadata": {},
   "source": [
    "## Spark подключен, сделаем несколько запрсов"
   ]
  },
  {
   "cell_type": "code",
   "execution_count": 2,
   "metadata": {},
   "outputs": [
    {
     "data": {
      "application/vnd.jupyter.widget-view+json": {
       "model_id": "b29d970cf171497f91f0d8d1c0db4af3",
       "version_major": 2,
       "version_minor": 0
      },
      "text/plain": [
       "VBox()"
      ]
     },
     "metadata": {},
     "output_type": "display_data"
    },
    {
     "data": {
      "application/vnd.jupyter.widget-view+json": {
       "model_id": "",
       "version_major": 2,
       "version_minor": 0
      },
      "text/plain": [
       "FloatProgress(value=0.0, bar_style='info', description='Progress:', layout=Layout(height='25px', width='50%'),…"
      ]
     },
     "metadata": {},
     "output_type": "display_data"
    }
   ],
   "source": [
    "import pyspark\n",
    "from pyspark.sql.functions import *\n",
    "from pyspark.sql import SparkSession\n",
    "\n",
    "# Инициализируем SparkSession\n",
    "spark = SparkSession.builder \\\n",
    "    .appName('Dreamlone') \\\n",
    "    .config('spark.executor.memory', '*') \\\n",
    "    .config(\"spark.cores.max\", \"*\") \\\n",
    "    .getOrCreate()"
   ]
  },
  {
   "cell_type": "code",
   "execution_count": 3,
   "metadata": {},
   "outputs": [
    {
     "data": {
      "application/vnd.jupyter.widget-view+json": {
       "model_id": "735152209ce64493a290770649836089",
       "version_major": 2,
       "version_minor": 0
      },
      "text/plain": [
       "VBox()"
      ]
     },
     "metadata": {},
     "output_type": "display_data"
    },
    {
     "data": {
      "application/vnd.jupyter.widget-view+json": {
       "model_id": "",
       "version_major": 2,
       "version_minor": 0
      },
      "text/plain": [
       "FloatProgress(value=0.0, bar_style='info', description='Progress:', layout=Layout(height='25px', width='50%'),…"
      ]
     },
     "metadata": {},
     "output_type": "display_data"
    },
    {
     "name": "stdout",
     "output_type": "stream",
     "text": [
      "['Precip_amount', 'Precip_days', 'Pressure_mean', 'Sweden_pressure', 'Ireland_pressure', 'Portugal_pressure', 'Greece_pressure', 'Temperature_max', 'Temperature_min', 'Temperature_SAT', 'Year', 'Wheat', 'Rice', 'Maize', 'Potatoes', 'Peas', 'Barley', 'Nitrogen', 'Tractors', 'Population', 'Entity', 'Land_used', 'Cereal_production', 'Cereal_yield', 'RAINFALL', 'PRESSURE', 'MAX_TMP', 'TMP', 'MIN_TMP', '__index_level_0__']"
     ]
    }
   ],
   "source": [
    "data = spark.read.parquet('s3://dreamlone-mieca/CropAndClimate.parquet')\n",
    "# Посмотрим какие есть колонки\n",
    "data.columns"
   ]
  },
  {
   "cell_type": "code",
   "execution_count": 4,
   "metadata": {},
   "outputs": [
    {
     "data": {
      "application/vnd.jupyter.widget-view+json": {
       "model_id": "f22eb25b13f846f4bde908fdf1d7cbf2",
       "version_major": 2,
       "version_minor": 0
      },
      "text/plain": [
       "VBox()"
      ]
     },
     "metadata": {},
     "output_type": "display_data"
    },
    {
     "data": {
      "application/vnd.jupyter.widget-view+json": {
       "model_id": "",
       "version_major": 2,
       "version_minor": 0
      },
      "text/plain": [
       "FloatProgress(value=0.0, bar_style='info', description='Progress:', layout=Layout(height='25px', width='50%'),…"
      ]
     },
     "metadata": {},
     "output_type": "display_data"
    },
    {
     "name": "stdout",
     "output_type": "stream",
     "text": [
      "+----+------------------+-----------+--------------------+\n",
      "|Year|     Precip_amount|Precip_days|            RAINFALL|\n",
      "+----+------------------+-----------+--------------------+\n",
      "|1977|          516.4519|       87.0|[4.633825, 7.3651...|\n",
      "|1978|500.17194000000006|       86.0|[1.9677131, 3.261...|\n",
      "|1979|         492.63788|       85.0|[7.3747, 3.536502...|\n",
      "|1980|          397.0147|       71.0|[0.122699395, 0.4...|\n",
      "|1981|         433.96133|       75.0|[0.02617587, 0.30...|\n",
      "|1982|         329.65518|       63.0|[0.2819274, 0.920...|\n",
      "|1983|         434.99136|       78.0|[0.85904914, 7.87...|\n",
      "|1984|414.64437999999996|       72.0|[0.36899278, 0.08...|\n",
      "|1985|         412.23276|       72.0|[0.12740286, 0.38...|\n",
      "|1986|         445.59018|       80.0|[0.053016353, 0.1...|\n",
      "|1987|          347.6998|       69.0|[1.4422555, 0.411...|\n",
      "|1988|          519.6017|       82.0|[7.0522566, 1.353...|\n",
      "|1989|          323.0364|       57.0|[0.0, 1.2782462, ...|\n",
      "|1990|         343.08313|       60.0|[0.2951943, 0.640...|\n",
      "|1991|295.82027999999997|       60.0|[4.1155643, 0.154...|\n",
      "|1992|          318.1477|       53.0|[0.71998924, 1.57...|\n",
      "|1993|         315.12735|       54.0|[2.9827452, 0.970...|\n",
      "|1994|         452.17526|       78.0|[0.628605, 1.3237...|\n",
      "|1995|436.96957000000003|       71.0|[0.3583076, 3.565...|\n",
      "|1996|          316.0626|       53.0|[1.9007397, 0.869...|\n",
      "+----+------------------+-----------+--------------------+\n",
      "only showing top 20 rows"
     ]
    }
   ],
   "source": [
    "data.filter(data.Entity == 'France').filter(data.Year > '1976') \\\n",
    ".select('Year', 'Precip_amount', 'Precip_days', 'RAINFALL').show()"
   ]
  }
 ],
 "metadata": {
  "kernelspec": {
   "display_name": "PySpark",
   "language": "",
   "name": "pysparkkernel"
  },
  "language_info": {
   "codemirror_mode": {
    "name": "python",
    "version": 2
   },
   "mimetype": "text/x-python",
   "name": "pyspark",
   "pygments_lexer": "python2"
  }
 },
 "nbformat": 4,
 "nbformat_minor": 4
}
