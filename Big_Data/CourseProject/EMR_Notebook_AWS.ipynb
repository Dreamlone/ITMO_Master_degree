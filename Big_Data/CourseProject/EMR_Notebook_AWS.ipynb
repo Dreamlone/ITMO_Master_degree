{
 "cells": [
  {
   "cell_type": "code",
   "execution_count": 1,
   "metadata": {},
   "outputs": [
    {
     "data": {
      "application/vnd.jupyter.widget-view+json": {
       "model_id": "ea4cd0c67c3141c099bb071e43d36e77",
       "version_major": 2,
       "version_minor": 0
      },
      "text/plain": [
       "VBox()"
      ]
     },
     "metadata": {},
     "output_type": "display_data"
    },
    {
     "name": "stdout",
     "output_type": "stream",
     "text": [
      "Starting Spark application\n"
     ]
    },
    {
     "data": {
      "text/html": [
       "<table>\n",
       "<tr><th>ID</th><th>YARN Application ID</th><th>Kind</th><th>State</th><th>Spark UI</th><th>Driver log</th><th>Current session?</th></tr><tr><td>2</td><td>application_1592775982056_0003</td><td>pyspark</td><td>idle</td><td><a target=\"_blank\" href=\"http://ip-172-31-61-234.us-west-2.compute.internal:20888/proxy/application_1592775982056_0003/\">Link</a></td><td><a target=\"_blank\" href=\"http://ip-172-31-49-172.us-west-2.compute.internal:8042/node/containerlogs/container_1592775982056_0003_01_000001/livy\">Link</a></td><td>✔</td></tr></table>"
      ],
      "text/plain": [
       "<IPython.core.display.HTML object>"
      ]
     },
     "metadata": {},
     "output_type": "display_data"
    },
    {
     "data": {
      "application/vnd.jupyter.widget-view+json": {
       "model_id": "",
       "version_major": 2,
       "version_minor": 0
      },
      "text/plain": [
       "FloatProgress(value=0.0, bar_style='info', description='Progress:', layout=Layout(height='25px', width='50%'),…"
      ]
     },
     "metadata": {},
     "output_type": "display_data"
    },
    {
     "name": "stdout",
     "output_type": "stream",
     "text": [
      "SparkSession available as 'spark'.\n"
     ]
    },
    {
     "data": {
      "application/vnd.jupyter.widget-view+json": {
       "model_id": "",
       "version_major": 2,
       "version_minor": 0
      },
      "text/plain": [
       "FloatProgress(value=0.0, bar_style='info', description='Progress:', layout=Layout(height='25px', width='50%'),…"
      ]
     },
     "metadata": {},
     "output_type": "display_data"
    },
    {
     "name": "stdout",
     "output_type": "stream",
     "text": [
      "Welcome to my EMR Notebook!"
     ]
    }
   ],
   "source": [
    "print(\"Welcome to my EMR Notebook!\")"
   ]
  },
  {
   "cell_type": "markdown",
   "metadata": {},
   "source": [
    "# Spark подключен"
   ]
  },
  {
   "cell_type": "code",
   "execution_count": 2,
   "metadata": {},
   "outputs": [
    {
     "data": {
      "application/vnd.jupyter.widget-view+json": {
       "model_id": "272176d053064587835a9386a43fe44e",
       "version_major": 2,
       "version_minor": 0
      },
      "text/plain": [
       "VBox()"
      ]
     },
     "metadata": {},
     "output_type": "display_data"
    },
    {
     "data": {
      "application/vnd.jupyter.widget-view+json": {
       "model_id": "",
       "version_major": 2,
       "version_minor": 0
      },
      "text/plain": [
       "FloatProgress(value=0.0, bar_style='info', description='Progress:', layout=Layout(height='25px', width='50%'),…"
      ]
     },
     "metadata": {},
     "output_type": "display_data"
    }
   ],
   "source": [
    "import pyspark\n",
    "from pyspark.sql.functions import *\n",
    "from pyspark.sql import SparkSession\n",
    "\n",
    "# Инициализируем SparkSession\n",
    "spark = SparkSession.builder \\\n",
    "    .appName('Dreamlone') \\\n",
    "    .config('spark.executor.memory', '*') \\\n",
    "    .config(\"spark.cores.max\", \"*\") \\\n",
    "    .getOrCreate()"
   ]
  },
  {
   "cell_type": "markdown",
   "metadata": {},
   "source": [
    "## Установка пакетов, так как они не предустановлены на данный момент"
   ]
  },
  {
   "cell_type": "code",
   "execution_count": 3,
   "metadata": {},
   "outputs": [
    {
     "data": {
      "application/vnd.jupyter.widget-view+json": {
       "model_id": "748a9606c5004ca7bb0b008a9a347d11",
       "version_major": 2,
       "version_minor": 0
      },
      "text/plain": [
       "VBox()"
      ]
     },
     "metadata": {},
     "output_type": "display_data"
    },
    {
     "data": {
      "application/vnd.jupyter.widget-view+json": {
       "model_id": "",
       "version_major": 2,
       "version_minor": 0
      },
      "text/plain": [
       "FloatProgress(value=0.0, bar_style='info', description='Progress:', layout=Layout(height='25px', width='50%'),…"
      ]
     },
     "metadata": {},
     "output_type": "display_data"
    },
    {
     "name": "stdout",
     "output_type": "stream",
     "text": [
      "Collecting pandas\n",
      "  Using cached https://files.pythonhosted.org/packages/af/f3/683bf2547a3eaeec15b39cef86f61e921b3b187f250fcd2b5c5fb4386369/pandas-1.0.5-cp37-cp37m-manylinux1_x86_64.whl\n",
      "Requirement already satisfied: pytz>=2017.2 in /usr/local/lib/python3.7/site-packages (from pandas)\n",
      "Requirement already satisfied: numpy>=1.13.3 in /usr/local/lib64/python3.7/site-packages (from pandas)\n",
      "Collecting python-dateutil>=2.6.1 (from pandas)\n",
      "  Using cached https://files.pythonhosted.org/packages/d4/70/d60450c3dd48ef87586924207ae8907090de0b306af2bce5d134d78615cb/python_dateutil-2.8.1-py2.py3-none-any.whl\n",
      "Requirement already satisfied: six>=1.5 in /usr/local/lib/python3.7/site-packages (from python-dateutil>=2.6.1->pandas)\n",
      "Installing collected packages: python-dateutil, pandas\n",
      "Successfully installed pandas-1.0.5 python-dateutil-2.8.1\n",
      "\n",
      "Collecting matplotlib\n",
      "  Using cached https://files.pythonhosted.org/packages/d9/aa/22af3c636d6b87e8d7f8f28c02da338e348ed08beff1e2b58843f0f62fc1/matplotlib-3.2.2-cp37-cp37m-manylinux1_x86_64.whl\n",
      "Requirement already satisfied: python-dateutil>=2.1 in /mnt/tmp/1592777014153-0/lib/python3.7/site-packages (from matplotlib)\n",
      "Collecting pyparsing!=2.0.4,!=2.1.2,!=2.1.6,>=2.0.1 (from matplotlib)\n",
      "  Using cached https://files.pythonhosted.org/packages/8a/bb/488841f56197b13700afd5658fc279a2025a39e22449b7cf29864669b15d/pyparsing-2.4.7-py2.py3-none-any.whl\n",
      "Collecting cycler>=0.10 (from matplotlib)\n",
      "  Using cached https://files.pythonhosted.org/packages/f7/d2/e07d3ebb2bd7af696440ce7e754c59dd546ffe1bbe732c8ab68b9c834e61/cycler-0.10.0-py2.py3-none-any.whl\n",
      "Requirement already satisfied: numpy>=1.11 in /usr/local/lib64/python3.7/site-packages (from matplotlib)\n",
      "Collecting kiwisolver>=1.0.1 (from matplotlib)\n",
      "  Using cached https://files.pythonhosted.org/packages/31/b9/6202dcae729998a0ade30e80ac00f616542ef445b088ec970d407dfd41c0/kiwisolver-1.2.0-cp37-cp37m-manylinux1_x86_64.whl\n",
      "Requirement already satisfied: six>=1.5 in /usr/local/lib/python3.7/site-packages (from python-dateutil>=2.1->matplotlib)\n",
      "Installing collected packages: pyparsing, cycler, kiwisolver, matplotlib\n",
      "Successfully installed cycler-0.10.0 kiwisolver-1.2.0 matplotlib-3.2.2 pyparsing-2.4.7"
     ]
    }
   ],
   "source": [
    "sc.install_pypi_package(\"pandas\")\n",
    "sc.install_pypi_package(\"matplotlib\")"
   ]
  },
  {
   "cell_type": "code",
   "execution_count": 28,
   "metadata": {},
   "outputs": [
    {
     "data": {
      "application/vnd.jupyter.widget-view+json": {
       "model_id": "dd6a7077836e46dbbdf85a317e1e018c",
       "version_major": 2,
       "version_minor": 0
      },
      "text/plain": [
       "VBox()"
      ]
     },
     "metadata": {},
     "output_type": "display_data"
    },
    {
     "data": {
      "application/vnd.jupyter.widget-view+json": {
       "model_id": "",
       "version_major": 2,
       "version_minor": 0
      },
      "text/plain": [
       "FloatProgress(value=0.0, bar_style='info', description='Progress:', layout=Layout(height='25px', width='50%'),…"
      ]
     },
     "metadata": {},
     "output_type": "display_data"
    }
   ],
   "source": [
    "# Импорт библиотек\n",
    "from pyspark.ml.linalg import Vectors\n",
    "from pyspark.ml.feature import VectorAssembler\n",
    "from pyspark.ml.feature import StandardScaler\n",
    "from pyspark.ml.regression import LinearRegression\n",
    "from pyspark.ml.evaluation import RegressionEvaluator\n",
    "\n",
    "import numpy as np"
   ]
  },
  {
   "cell_type": "code",
   "execution_count": 5,
   "metadata": {},
   "outputs": [
    {
     "data": {
      "application/vnd.jupyter.widget-view+json": {
       "model_id": "2ebb8681a48e4b76810216027735c073",
       "version_major": 2,
       "version_minor": 0
      },
      "text/plain": [
       "VBox()"
      ]
     },
     "metadata": {},
     "output_type": "display_data"
    },
    {
     "data": {
      "application/vnd.jupyter.widget-view+json": {
       "model_id": "",
       "version_major": 2,
       "version_minor": 0
      },
      "text/plain": [
       "FloatProgress(value=0.0, bar_style='info', description='Progress:', layout=Layout(height='25px', width='50%'),…"
      ]
     },
     "metadata": {},
     "output_type": "display_data"
    },
    {
     "name": "stdout",
     "output_type": "stream",
     "text": [
      "['Precip_amount', 'Precip_days', 'Pressure_mean', 'Sweden_pressure', 'Ireland_pressure', 'Portugal_pressure', 'Greece_pressure', 'Temperature_max', 'Temperature_min', 'Temperature_SAT', 'Year', 'Wheat', 'Rice', 'Maize', 'Potatoes', 'Peas', 'Barley', 'Nitrogen', 'Tractors', 'Population', 'Entity', 'Land_used', 'Cereal_production', 'Cereal_yield', 'RAINFALL', 'PRESSURE', 'MAX_TMP', 'TMP', 'MIN_TMP', '__index_level_0__']"
     ]
    }
   ],
   "source": [
    "data = spark.read.parquet('s3://dreamlone-mieca/CropAndClimate.parquet')\n",
    "# Посмотрим какие есть колонки\n",
    "data.columns"
   ]
  },
  {
   "cell_type": "code",
   "execution_count": 6,
   "metadata": {},
   "outputs": [
    {
     "data": {
      "application/vnd.jupyter.widget-view+json": {
       "model_id": "f7631fa5c51d49fc9df2f065d0d8439d",
       "version_major": 2,
       "version_minor": 0
      },
      "text/plain": [
       "VBox()"
      ]
     },
     "metadata": {},
     "output_type": "display_data"
    },
    {
     "data": {
      "application/vnd.jupyter.widget-view+json": {
       "model_id": "",
       "version_major": 2,
       "version_minor": 0
      },
      "text/plain": [
       "FloatProgress(value=0.0, bar_style='info', description='Progress:', layout=Layout(height='25px', width='50%'),…"
      ]
     },
     "metadata": {},
     "output_type": "display_data"
    },
    {
     "name": "stdout",
     "output_type": "stream",
     "text": [
      "+----+------------------+-----------+--------------------+\n",
      "|Year|     Precip_amount|Precip_days|            RAINFALL|\n",
      "+----+------------------+-----------+--------------------+\n",
      "|1977|          516.4519|       87.0|[4.633825, 7.3651...|\n",
      "|1978|500.17194000000006|       86.0|[1.9677131, 3.261...|\n",
      "|1979|         492.63788|       85.0|[7.3747, 3.536502...|\n",
      "|1980|          397.0147|       71.0|[0.122699395, 0.4...|\n",
      "|1981|         433.96133|       75.0|[0.02617587, 0.30...|\n",
      "|1982|         329.65518|       63.0|[0.2819274, 0.920...|\n",
      "|1983|         434.99136|       78.0|[0.85904914, 7.87...|\n",
      "|1984|414.64437999999996|       72.0|[0.36899278, 0.08...|\n",
      "|1985|         412.23276|       72.0|[0.12740286, 0.38...|\n",
      "|1986|         445.59018|       80.0|[0.053016353, 0.1...|\n",
      "|1987|          347.6998|       69.0|[1.4422555, 0.411...|\n",
      "|1988|          519.6017|       82.0|[7.0522566, 1.353...|\n",
      "|1989|          323.0364|       57.0|[0.0, 1.2782462, ...|\n",
      "|1990|         343.08313|       60.0|[0.2951943, 0.640...|\n",
      "|1991|295.82027999999997|       60.0|[4.1155643, 0.154...|\n",
      "|1992|          318.1477|       53.0|[0.71998924, 1.57...|\n",
      "|1993|         315.12735|       54.0|[2.9827452, 0.970...|\n",
      "|1994|         452.17526|       78.0|[0.628605, 1.3237...|\n",
      "|1995|436.96957000000003|       71.0|[0.3583076, 3.565...|\n",
      "|1996|          316.0626|       53.0|[1.9007397, 0.869...|\n",
      "+----+------------------+-----------+--------------------+\n",
      "only showing top 20 rows"
     ]
    }
   ],
   "source": [
    "data.filter(data.Entity == 'France').filter(data.Year > '1976') \\\n",
    ".select('Year', 'Precip_amount', 'Precip_days', 'RAINFALL').show()"
   ]
  },
  {
   "cell_type": "code",
   "execution_count": 7,
   "metadata": {},
   "outputs": [
    {
     "data": {
      "application/vnd.jupyter.widget-view+json": {
       "model_id": "c1c01d3e7757414dbba3076a1541ebb9",
       "version_major": 2,
       "version_minor": 0
      },
      "text/plain": [
       "VBox()"
      ]
     },
     "metadata": {},
     "output_type": "display_data"
    },
    {
     "data": {
      "application/vnd.jupyter.widget-view+json": {
       "model_id": "",
       "version_major": 2,
       "version_minor": 0
      },
      "text/plain": [
       "FloatProgress(value=0.0, bar_style='info', description='Progress:', layout=Layout(height='25px', width='50%'),…"
      ]
     },
     "metadata": {},
     "output_type": "display_data"
    },
    {
     "name": "stdout",
     "output_type": "stream",
     "text": [
      "+----+--------------------+--------------------+--------------------+\n",
      "|Year|             MAX_TMP|                 TMP|             MIN_TMP|\n",
      "+----+--------------------+--------------------+--------------------+\n",
      "|2010|[2.3872309, 4.601...|[-0.18742949, 1.9...|[-2.4357595, -1.8...|\n",
      "+----+--------------------+--------------------+--------------------+"
     ]
    }
   ],
   "source": [
    "germany = data.filter(data.Entity == 'Germany').filter(data.Year == '2010') \\\n",
    ".select('Year', 'MAX_TMP', 'TMP', 'MIN_TMP')\n",
    "germany.show()"
   ]
  },
  {
   "cell_type": "markdown",
   "metadata": {},
   "source": [
    "## Linear regression"
   ]
  },
  {
   "cell_type": "code",
   "execution_count": 8,
   "metadata": {},
   "outputs": [
    {
     "data": {
      "application/vnd.jupyter.widget-view+json": {
       "model_id": "182ee85106604aeda2ca03e10262fe8c",
       "version_major": 2,
       "version_minor": 0
      },
      "text/plain": [
       "VBox()"
      ]
     },
     "metadata": {},
     "output_type": "display_data"
    },
    {
     "data": {
      "application/vnd.jupyter.widget-view+json": {
       "model_id": "",
       "version_major": 2,
       "version_minor": 0
      },
      "text/plain": [
       "FloatProgress(value=0.0, bar_style='info', description='Progress:', layout=Layout(height='25px', width='50%'),…"
      ]
     },
     "metadata": {},
     "output_type": "display_data"
    }
   ],
   "source": [
    "# Функция для оценки величины ошибки на данных для выбранного года и выбранной страны\n",
    "# year            --- Год, для которого будет даваться прогноз заблаговременностью несколько месяцев\n",
    "# country         --- Страна, для которой будет делаться прогноз\n",
    "# crop            --- Название с/х культуры\n",
    "# data            --- датасет с данными\n",
    "# additional_info --- необходимо ли выводить информацию о точности модели на тренировочных данных и схему ПРЕДСКАЗАНИЕ | ДЕЙСТВИТЕЛЬНОЕ ЗНАЧЕНИЕ | ПРЕДИКТОРЫ\n",
    "def linear_regression(year, country, crop, data, additional_info = False):\n",
    "    \n",
    "    # Обучать модель мы будем для выбранной страны \n",
    "    train_dataset = data.filter(data.Entity == country).filter(data.Year > '1976').filter(data.Year < year)\n",
    "    test_dataset = data.filter(data.Entity == country).filter(data.Year == year)\n",
    "\n",
    "    # Теперь составим столбец 'features' в котором массивом будет содержаться информация о предикторах\n",
    "    feat_cols = ['Precip_amount', 'Temperature_SAT', 'Precip_days', 'Pressure_mean', 'Temperature_min', 'Year']\n",
    "    vec_assembler = VectorAssembler(inputCols = feat_cols, outputCol = 'features')\n",
    "    train_data = vec_assembler.transform(train_dataset)\n",
    "    test_data = vec_assembler.transform(test_dataset)\n",
    "\n",
    "    # Нормализуем наши признаки\n",
    "    scaler = StandardScaler(inputCol = 'features', outputCol = 'features_scaled', withStd = True, withMean = False)\n",
    "    scalerModel = scaler.fit(train_data)\n",
    "    scaled_train_data = scalerModel.transform(train_data)\n",
    "    scaled_test_data = scalerModel.transform(test_data)\n",
    "\n",
    "    # Обучаем линейную регрессию\n",
    "    lr = LinearRegression(featuresCol = 'features_scaled', labelCol = crop, maxIter=10, regParam = 0.3, elasticNetParam = 0.8)\n",
    "    lr_model = lr.fit(scaled_train_data)\n",
    "    trainingSummary = lr_model.summary\n",
    "    \n",
    "    # Применение модели на тестовом наборе данных\n",
    "    lr_predictions = lr_model.transform(scaled_test_data)\n",
    "    \n",
    "    if additional_info == True:\n",
    "        print('Training sample')\n",
    "        print(\"RMSE: %f\" % trainingSummary.rootMeanSquaredError)\n",
    "        print(\"r2: %f\" % trainingSummary.r2, '\\n')\n",
    "        lr_predictions.select(\"prediction\", crop, \"features\").show(5)\n",
    "    \n",
    "    # Возвращается действительное значение + предсказанное значение\n",
    "    prediction = lr_predictions.select(\"prediction\").collect()[0][0]\n",
    "    actual = lr_predictions.select(crop).collect()[0][0]\n",
    "    print('Error : ', prediction - actual)\n",
    "    return(prediction, actual)"
   ]
  },
  {
   "cell_type": "markdown",
   "metadata": {},
   "source": [
    "## Applying a linear regression algorithm"
   ]
  },
  {
   "cell_type": "code",
   "execution_count": 10,
   "metadata": {},
   "outputs": [
    {
     "data": {
      "application/vnd.jupyter.widget-view+json": {
       "model_id": "601d26fedb634eeca419b28f6216d9bd",
       "version_major": 2,
       "version_minor": 0
      },
      "text/plain": [
       "VBox()"
      ]
     },
     "metadata": {},
     "output_type": "display_data"
    },
    {
     "data": {
      "application/vnd.jupyter.widget-view+json": {
       "model_id": "",
       "version_major": 2,
       "version_minor": 0
      },
      "text/plain": [
       "FloatProgress(value=0.0, bar_style='info', description='Progress:', layout=Layout(height='25px', width='50%'),…"
      ]
     },
     "metadata": {},
     "output_type": "display_data"
    },
    {
     "name": "stdout",
     "output_type": "stream",
     "text": [
      "Error :  -0.15086555007976088\n",
      "Error :  -0.37354675730386955\n",
      "Error :  0.06422882414714337\n",
      "Error :  0.5478980247098679\n",
      "Error :  -0.04806165409800389\n",
      "Error :  -0.19628799790222562\n",
      "Error :  -0.2339138775278755\n",
      "Error :  -0.6088975096297338\n",
      "Error :  1.9256139354170543\n",
      "Error :  -0.060261295156978534\n",
      "Error :  0.07586685549946814"
     ]
    }
   ],
   "source": [
    "preds = []\n",
    "reals = []\n",
    "for j in ['2008', '2009', '2010', '2011', '2012', '2013', '2014', '2015', '2016', '2017', '2018']:\n",
    "    prediction, actual = linear_regression(year = j, country = 'France', crop = 'Wheat', data = data)\n",
    "    preds.append(prediction)\n",
    "    reals.append(actual)\n",
    "\n",
    "# Переводим в numpy массивы\n",
    "reals = np.array(reals)\n",
    "preds = np.array(preds)"
   ]
  }
 ],
 "metadata": {
  "kernelspec": {
   "display_name": "PySpark",
   "language": "",
   "name": "pysparkkernel"
  },
  "language_info": {
   "codemirror_mode": {
    "name": "python",
    "version": 2
   },
   "mimetype": "text/x-python",
   "name": "pyspark",
   "pygments_lexer": "python2"
  }
 },
 "nbformat": 4,
 "nbformat_minor": 4
}
