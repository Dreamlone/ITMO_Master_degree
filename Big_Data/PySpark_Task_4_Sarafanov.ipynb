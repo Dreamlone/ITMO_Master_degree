{
 "cells": [
  {
   "cell_type": "code",
   "execution_count": 5,
   "metadata": {},
   "outputs": [],
   "source": [
    "import findspark\n",
    "findspark.init()\n",
    "import pyspark\n",
    "from pyspark.sql.functions import *\n",
    "from pyspark.sql.functions import udf\n",
    "import emojis"
   ]
  },
  {
   "cell_type": "code",
   "execution_count": 6,
   "metadata": {},
   "outputs": [],
   "source": [
    "from pyspark.sql import SparkSession\n",
    "\n",
    "# Инициализируем SparkSession\n",
    "spark = SparkSession.builder \\\n",
    "    .master('local') \\\n",
    "    .appName('Dreamlone') \\\n",
    "    .config('spark.executor.memory', '4gb') \\\n",
    "    .config(\"spark.cores.max\", \"6\") \\\n",
    "    .getOrCreate()"
   ]
  },
  {
   "cell_type": "markdown",
   "metadata": {},
   "source": [
    "# Task 4\n",
    "\n",
    "### find emoticons in posts and post comments (negative, positive, neutral) (you can use external libraries or predefined emoticon lists) (use the spark udf and broadcast function for emoticons)"
   ]
  },
  {
   "cell_type": "code",
   "execution_count": 7,
   "metadata": {},
   "outputs": [],
   "source": [
    "from pyspark.sql.types import StringType, BooleanType\n",
    "from pyspark import *\n",
    "\n",
    "# Загружаем файл, в котором будем все искать\n",
    "itmo_posts = spark.read.parquet(\"./bigdata20/posts_api.parquet\")\n",
    "itmo_posts.createOrReplaceTempView(\"posts\")\n",
    "\n",
    "# Воспользуемся внешей библиотекой\n",
    "def extract_emoji(text):\n",
    "    return(emojis.get(text))\n",
    "spark.udf.register(\"extract_emoji\", extract_emoji)\n",
    "\n",
    "data_emjs = spark.sql(\"SELECT key, extract_emoji(text) as emoji FROM posts WHERE text is not null\")\n",
    "data_emjs.select('key', 'emoji') \\\n",
    ".sort(desc(\"emoji\")) \\\n",
    ".coalesce(1).write.format(\"json\").save(\"./bigdata20/Answers/task4_emojies.json\")"
   ]
  }
 ],
 "metadata": {
  "kernelspec": {
   "display_name": "Python 3",
   "language": "python",
   "name": "python3"
  },
  "language_info": {
   "codemirror_mode": {
    "name": "ipython",
    "version": 3
   },
   "file_extension": ".py",
   "mimetype": "text/x-python",
   "name": "python",
   "nbconvert_exporter": "python",
   "pygments_lexer": "ipython3",
   "version": "3.7.3"
  }
 },
 "nbformat": 4,
 "nbformat_minor": 4
}
