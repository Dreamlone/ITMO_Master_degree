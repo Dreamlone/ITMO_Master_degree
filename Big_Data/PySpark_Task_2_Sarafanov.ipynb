{
 "cells": [
  {
   "cell_type": "code",
   "execution_count": 2,
   "metadata": {},
   "outputs": [],
   "source": [
    "import findspark\n",
    "findspark.init()\n",
    "import pyspark\n",
    "from pyspark.sql.functions import *\n",
    "from pyspark.sql.functions import udf\n",
    "import emojis"
   ]
  },
  {
   "cell_type": "code",
   "execution_count": 3,
   "metadata": {},
   "outputs": [],
   "source": [
    "from pyspark.sql import SparkSession\n",
    "\n",
    "# Инициализируем sparkContext\n",
    "spark = SparkSession.builder \\\n",
    "    .master('local') \\\n",
    "    .appName('Dreamlone') \\\n",
    "    .config('spark.executor.memory', '4gb') \\\n",
    "    .config(\"spark.cores.max\", \"6\") \\\n",
    "    .getOrCreate()\n",
    "\n",
    "sc = spark.sparkContext\n",
    "\n",
    "# Используем SQLContext чтобы прочитать файл\n",
    "from pyspark.sql import SQLContext\n",
    "sqlContext = SQLContext(sc)"
   ]
  },
  {
   "cell_type": "markdown",
   "metadata": {},
   "source": [
    "# Task 2\n",
    "\n",
    "### display the top 20 users by likes and reposts made (for reposts use \"copy_history\", from the subset posts"
   ]
  },
  {
   "cell_type": "markdown",
   "metadata": {},
   "source": [
    "top 20 users by likes (posts_likes):"
   ]
  },
  {
   "cell_type": "code",
   "execution_count": 7,
   "metadata": {},
   "outputs": [],
   "source": [
    "top20_followers_likes = sqlContext.read.parquet('./bigdata20/posts_likes.parquet').groupBy(\"likerId\").count().sort(desc(\"count\")).limit(20)\n",
    "top20_followers_likes.write.json('./bigdata20/Answers/task2_top20_followers_likes.json')"
   ]
  },
  {
   "cell_type": "markdown",
   "metadata": {},
   "source": [
    "top 20 users by reposts (followers_posts_api_final):"
   ]
  },
  {
   "cell_type": "code",
   "execution_count": 5,
   "metadata": {},
   "outputs": [],
   "source": [
    "top20_followers_posts = sqlContext.read.parquet('./bigdata20/followers_posts_api_final.parquet')\n",
    "# Фильтруем по заданному условию\n",
    "top20_followers_posts = top20_followers_posts.filter(top20_followers_posts.copy_history.owner_id.getItem(0) == -94) \\\n",
    ".select('key','copy_history.id','owner_id') \\\n",
    ".groupBy('owner_id') \\\n",
    ".count().sort(desc(\"count\")) \\\n",
    ".limit(20)\n",
    "\n",
    "top20_followers_posts.write.json('./bigdata20/Answers/task2_top20_followers_posts.json')"
   ]
  }
 ],
 "metadata": {
  "kernelspec": {
   "display_name": "Python 3",
   "language": "python",
   "name": "python3"
  },
  "language_info": {
   "codemirror_mode": {
    "name": "ipython",
    "version": 3
   },
   "file_extension": ".py",
   "mimetype": "text/x-python",
   "name": "python",
   "nbconvert_exporter": "python",
   "pygments_lexer": "ipython3",
   "version": "3.7.3"
  }
 },
 "nbformat": 4,
 "nbformat_minor": 4
}
