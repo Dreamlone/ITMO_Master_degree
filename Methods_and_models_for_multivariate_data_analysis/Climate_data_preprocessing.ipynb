{
 "cells": [
  {
   "cell_type": "markdown",
   "metadata": {},
   "source": [
    "# Prediction of yields and Futures price of crops in Europe using climate data\n",
    "\n",
    "Team MiECa:\n",
    "- Mikhail Sarafanov\n",
    "- Egor Turukhanov\n",
    "- Juan Camilo Diosa E.\n",
    "\n",
    "## Processing of climate data\n",
    "\n",
    "Data is used: [E-OBS daily gridded meteorological data for Europe from 1950 to present](https://cds.climate.copernicus.eu/cdsapp#!/dataset/insitu-gridded-observations-europe?tab=overview)\n",
    "\n",
    "Preprocessing of hydrometeorological information is carried out in 2 stages:\n",
    "* Transformation of the source data of the reanalysis grid. Creating features\n",
    "* Combining hydrometeorological information with yield data + adding additional predictors"
   ]
  },
  {
   "cell_type": "markdown",
   "metadata": {},
   "source": [
    "### Transformation of the source data of the reanalysis grid. Creating features\n",
    "\n",
    "The source archives obtained from the European space Agency website contain netCDF files. The files have daily fields for the following parameters:\n",
    "- Mean daily air temperature, ℃ \n",
    "- Minimum daily air temperature, ℃\n",
    "- Maximum daily air temperature, ℃\n",
    "- Pressure, HPa\n",
    "- Precipitation, mm\n",
    "\n",
    "Based on the initial parameters, indicators for the first half of each year were calculated:\n",
    "- 1) Precip_amount - total rainfall for the first half of the year, mm\n",
    "- 2) Precip_days - the number of days with precipitation for the first half of the year, days\n",
    "- 3) Pressure_mean - average pressure, hpa\n",
    "- 4) Temperature_max - maximum average daily air temperature for the first six months, ℃\n",
    "- 5) Temperature_min - the minimum average daily temperature for the first six months, ℃\n",
    "- 6) Temperature_SAT - the sum of active temperatures above 10 degrees Celsius, ℃\n",
    "\n",
    "An example of an algorithm for calculating the sum of active temperatures above 10 degrees Celsius can be seen below:\n",
    "![Data_preparation.png](https://raw.githubusercontent.com/Dreamlone/ITMO_Masters_degree/master/Images/img_1.png)\n",
    "\n",
    "As a result of these conversions, fields with attribute values for each year were obtained. An example for the sum of active temperatures above 10 degrees for the first half of the year in 1950 can be seen below.\n",
    "![SAT_10.png](https://raw.githubusercontent.com/Dreamlone/ITMO_Masters_degree/master/Images/img_3.png)\n",
    "\n",
    "An algorithm is used to implement the above actions:\n",
    "\n",
    "#### [TransformNetCDF](https://github.com/Dreamlone/ITMO_Masters_degree/blob/master/Methods_and_models_for_multivariate_data_analysis/ClimateProcessing/TransformNetCDF.py)\n",
    "\n",
    "To speed up the runtime, a powerful library for parallelizing calculations is used - Dask."
   ]
  },
  {
   "cell_type": "code",
   "execution_count": null,
   "metadata": {},
   "outputs": [],
   "source": [
    "# Количество дней с осадками за первое полугодие\n",
    "transformed_matrix, timesteps = transform_grid(path = '...', \n",
    "                                               matrix_name = \"rr_ens_mean_0.1deg_reg_v20.0e.nc\", \n",
    "                                               calculate_days = True)\n",
    "save_netCDF(transformed_matrix, timesteps, '.../Precip_days.nc',\n",
    "            countries_tif = '.../Country_bounds.tif',\n",
    "            land_tif = '.../LandMatrix.tif')\n",
    "\n",
    "# Сумма осадков за первое полугодие\n",
    "transformed_matrix, timesteps = transform_grid(path = '...', \n",
    "                                               matrix_name = \"rr_ens_mean_0.1deg_reg_v20.0e.nc\")\n",
    "save_netCDF(transformed_matrix, timesteps, '.../Precip_amount.nc',\n",
    "            countries_tif = '.../Country_bounds.tif',\n",
    "            land_tif = '.../LandMatrix.tif')\n",
    "\n",
    "# Среднее поле давления за первые полгода\n",
    "transformed_matrix, timesteps = transform_grid(path = '...', \n",
    "                                               matrix_name = \"pp_ens_mean_0.1deg_reg_v20.0e.nc\")\n",
    "save_netCDF(transformed_matrix, timesteps, '.../Pressure_mean.nc',\n",
    "            countries_tif = '.../Country_bounds.tif',\n",
    "            land_tif = '.../LandMatrix.tif')\n",
    "\n",
    "# Максимальная температура воздуха, встречавшаяся за первые полгода\n",
    "transformed_matrix, timesteps = transform_grid(path = '...', \n",
    "                                               matrix_name = \"tx_ens_mean_0.1deg_reg_v20.0e.nc\")\n",
    "save_netCDF(transformed_matrix, timesteps, '.../Temperature_max.nc',\n",
    "            countries_tif = '.../Country_bounds.tif',\n",
    "            land_tif = '.../LandMatrix.tif')\n",
    "\n",
    "# Сумма активных температур выше 10 градусов\n",
    "transformed_matrix, timesteps = transform_grid(path = '...', \n",
    "                                               matrix_name = \"tg_ens_mean_0.1deg_reg_v20.0e.nc\")\n",
    "save_netCDF(transformed_matrix, timesteps, '.../Temperature_SAT.nc',\n",
    "            countries_tif = '.../Country_bounds.tif',\n",
    "            land_tif = '.../LandMatrix.tif')\n",
    "\n",
    "# Минимальная температура воздуха, встречавшаяся за первые полгода\n",
    "transformed_matrix, timesteps = transform_grid(path = '...', \n",
    "                                               matrix_name = \"tn_ens_mean_0.1deg_reg_v20.0e.nc\")\n",
    "save_netCDF(transformed_matrix, timesteps, '.../Temperature_min.nc',\n",
    "            countries_tif = '.../Country_bounds.tif',\n",
    "            land_tif = '.../LandMatrix.tif')"
   ]
  },
  {
   "cell_type": "markdown",
   "metadata": {},
   "source": [
    "The result of the algorithm is netCDF files with parameter fields. The files also include a matrix of landscape types and a vector consisting of timestamps."
   ]
  },
  {
   "cell_type": "markdown",
   "metadata": {},
   "source": [
    "### Combining hydrometeorological information with yield data\n",
    "\n",
    "The received information about climate parameters is aggregated by country. Data is averaged for each country. A specially prepared country matrix is used for the aggregation procedure. The matrix has the same resolution as the reanalysis grid data.\n",
    "![Countries.png](https://raw.githubusercontent.com/Dreamlone/ITMO_Masters_degree/master/Images/img_2.png)\n",
    "\n",
    "An algorithm is used to create a bitmap with countries:\n",
    "\n",
    "#### [Rasterizer](https://github.com/Dreamlone/ITMO_Masters_degree/blob/master/Methods_and_models_for_multivariate_data_analysis/ClimateProcessing/Rasterizer.py)\n",
    "\n",
    "The input data is a vector layer with state borders and a matrix to copy the resolution and spatial reference from. The result is a bitmap image in geotiff format."
   ]
  },
  {
   "cell_type": "code",
   "execution_count": null,
   "metadata": {},
   "outputs": [],
   "source": [
    "# Загружаем шейпфайл из папки\n",
    "world = gpd.read_file(\"../Reanalysis_grid_Europe/World_bounds/worldbounds.shp\")\n",
    "# Файл, который служит образцом\n",
    "rst_fn = '../Reanalysis_grid_Europe/Example_SAT1950.tif'\n",
    "# Файл, в который будем сохранять растровый слой\n",
    "out_fn = '../Reanalysis_grid_Europe/world_rasterized.tif'\n",
    "rasterize(world, rst_fn, out_fn)"
   ]
  },
  {
   "cell_type": "markdown",
   "metadata": {},
   "source": [
    "Clearly, not all of the countries' territories are used as agricultural land. On the territory of European countries, there are mountains, urbanized territories, and nature reserves.\n",
    "\n",
    "In order to take into account only information that relates to agricultural land, a matrix of landscape types was used. All values that were not related to agricultural land were removed from the analysis.\n",
    "\n",
    "![Land.png](https://raw.githubusercontent.com/Dreamlone/ITMO_Masters_degree/master/Images/img_4.png)\n",
    "\n",
    "An algorithm was used to combine data into tables for analysis\n",
    "\n",
    "#### [MergeForm](https://github.com/Dreamlone/ITMO_Masters_degree/blob/master/Methods_and_models_for_multivariate_data_analysis/ClimateProcessing/MergeForm.py)\n"
   ]
  },
  {
   "cell_type": "code",
   "execution_count": null,
   "metadata": {},
   "outputs": [],
   "source": [
    "# Подготовим датасеты по следующим странам\n",
    "aggregate_by_country(country = 'Germany', netCDf_dir = '...',\n",
    "                     crop_data = '.../Crop_yields_info.csv',\n",
    "                     fertilizer_data = '.../Cereal_crop_yield_vs_fertilizer_application.csv',\n",
    "                     tractor_data = '.../Cereal_yields_vs_tractor_inputs_in_agriculture.csv',\n",
    "                     land_data = '.../Index_of_cereal_production_yield_and_land_use.csv')\n",
    "\n",
    "aggregate_by_country(country = 'France', netCDf_dir = '...',\n",
    "                     crop_data = '.../Crop_yields_info.csv',\n",
    "                     fertilizer_data = '.../Cereal_crop_yield_vs_fertilizer_application.csv',\n",
    "                     tractor_data = '.../Cereal_yields_vs_tractor_inputs_in_agriculture.csv',\n",
    "                     land_data = '.../Index_of_cereal_production_yield_and_land_use.csv')\n",
    "\n",
    "aggregate_by_country(country = 'Italy', netCDf_dir = '...',\n",
    "                     crop_data = '.../Crop_yields_info.csv',\n",
    "                     fertilizer_data = '.../Cereal_crop_yield_vs_fertilizer_application.csv',\n",
    "                     tractor_data = '.../Cereal_yields_vs_tractor_inputs_in_agriculture.csv',\n",
    "                     land_data = '.../Index_of_cereal_production_yield_and_land_use.csv')\n",
    "\n",
    "aggregate_by_country(country = 'Romania', netCDf_dir = '...',\n",
    "                     crop_data = '.../Crop_yields_info.csv',\n",
    "                     fertilizer_data = '.../Cereal_crop_yield_vs_fertilizer_application.csv',\n",
    "                     tractor_data = '.../Cereal_yields_vs_tractor_inputs_in_agriculture.csv',\n",
    "                     land_data = '.../Index_of_cereal_production_yield_and_land_use.csv')"
   ]
  },
  {
   "cell_type": "markdown",
   "metadata": {},
   "source": [
    "### Analysis of the distribution of climate parameters \n",
    "\n",
    "For one of the predictive models, we need to get distributions of certain climate parameters for the selected periods:\n",
    "* For the first half of each year\n",
    "* For February of each year\n",
    "* For April of each year\n",
    "* For June of each year\n",
    "\n",
    "The parameters considered are: average daily air temperature, average air pressure at sea level, and precipitation. Examples of the obtained distributions for 2000 and 2018 for temperature can be seen in the figure below.\n",
    "\n",
    "![Distribution.png](https://raw.githubusercontent.com/Dreamlone/ITMO_Masters_degree/master/Images/img_5.png)\n",
    "\n",
    "Algorithm for preparing distributions in binary npy format\n",
    "\n",
    "#### [TransformNetCDF_distribution](https://github.com/Dreamlone/ITMO_Masters_degree/blob/master/Methods_and_models_for_multivariate_data_analysis/ClimateProcessing/TransformNetCDF_distribution.py)\n",
    "\n"
   ]
  },
  {
   "cell_type": "code",
   "execution_count": null,
   "metadata": {},
   "outputs": [],
   "source": [
    "# path --- the path where the netCDF files are located\n",
    "# country --- name of the country that parameters are aggregated for\n",
    "# countries_tif --- matrix with state borders\n",
    "# land_tif --- matrix with biomes\n",
    "# START --- start of the aggregation period\n",
    "# STOP --- end of the aggregation period\n",
    "# where_to_save --- folder where you want to save the result\n",
    "for name in ['rr_ens_mean_0.1deg_reg_v20.0e.nc', 'tg_ens_mean_0.1deg_reg_v20.0e.nc', 'pp_ens_mean_0.1deg_reg_v20.0e.nc']:\n",
    "    transformed_matrix, timesteps, start, stop = transform_grid(path = '.../Reanalysis_grid_Europe', matrix_name = name,\n",
    "                                                                country = 'Poland',\n",
    "                                                                countries_tif ='.../Reanalysis_grid_Europe/Country_bounds.tif',\n",
    "                                                                land_tif ='.../Reanalysis_grid_Europe/LandMatrix.tif',\n",
    "                                                                START ='06-01',\n",
    "                                                                STOP = '06-30',\n",
    "                                                                where_to_save = '.../Reanalysis_grid_Europe/Processed_grid/Distributions_files/Poland')"
   ]
  }
 ],
 "metadata": {
  "kernelspec": {
   "display_name": "Python 3",
   "language": "python",
   "name": "python3"
  },
  "language_info": {
   "codemirror_mode": {
    "name": "ipython",
    "version": 3
   },
   "file_extension": ".py",
   "mimetype": "text/x-python",
   "name": "python",
   "nbconvert_exporter": "python",
   "pygments_lexer": "ipython3",
   "version": "3.7.3"
  }
 },
 "nbformat": 4,
 "nbformat_minor": 4
}
