{
 "cells": [
  {
   "cell_type": "markdown",
   "metadata": {},
   "source": [
    "# Prediction of yields and Futures price of crops in Europe using climate data\n",
    "\n",
    "Team MiECa:\n",
    "- Mikhail Sarafanov\n",
    "- Egor Turukhanov\n",
    "- Juan Camilo Diosa E.\n",
    "\n",
    "## Processing of climate data\n",
    "\n",
    "Data is used: [E-OBS daily gridded meteorological data for Europe from 1950 to present](https://cds.climate.copernicus.eu/cdsapp#!/dataset/insitu-gridded-observations-europe?tab=overview)\n",
    "\n",
    "Preprocessing of hydrometeorological information is carried out in 2 stages:\n",
    "* Transformation of the source data of the reanalysis grid. Creating features\n",
    "* Combining hydrometeorological information with yield data + adding additional predictors"
   ]
  },
  {
   "cell_type": "markdown",
   "metadata": {},
   "source": [
    "### Transformation of the source data of the reanalysis grid. Creating features\n",
    "\n",
    "The source archives obtained from the European space Agency website contain netCDF files. The files have daily fields for the following parameters:\n",
    "- Mean daily air temperature, ℃ \n",
    "- Minimum daily air temperature, ℃\n",
    "- Maximum daily air temperature, ℃\n",
    "- Pressure, HPa\n",
    "- Precipitation, mm\n",
    "\n",
    "Based on the initial parameters, indicators for the first half of each year were calculated:\n",
    "- 1) Precip_amount - total rainfall for the first half of the year, mm\n",
    "- 2) Precip_days - the number of days with precipitation for the first half of the year, days\n",
    "- 3) Pressure_mean - average pressure, hpa\n",
    "- 4) Temperature_max - maximum average daily air temperature for the first six months, ℃\n",
    "- 5) Temperature_min - the minimum average daily temperature for the first six months, ℃\n",
    "- 6) Temperature_SAT - the sum of active temperatures above 10 degrees Celsius, ℃\n",
    "\n",
    "An example of an algorithm for calculating the sum of active temperatures above 10 degrees Celsius can be seen below:\n",
    "![Data_preparation.png](https://raw.githubusercontent.com/Dreamlone/ITMO_Masters_degree/master/Images/img_1.png)\n",
    "\n",
    "As a result of these conversions, fields with attribute values for each year were obtained. An example for the sum of active temperatures above 10 degrees for the first half of the year in 1950 can be seen below.\n",
    "\n",
    "![SAT_10.png](https://raw.githubusercontent.com/Dreamlone/ITMO_Masters_degree/master/Images/img_3.png)\n",
    "\n",
    "An algorithm is used to implement the above actions:\n",
    "\n",
    "#### TransformNetCDF\n",
    "\n",
    "To speed up the work time, a powerful library for parallelizing calculations is used - Dask."
   ]
  },
  {
   "cell_type": "code",
   "execution_count": null,
   "metadata": {},
   "outputs": [],
   "source": [
    "# Количество дней с осадками за первое полугодие\n",
    "transformed_matrix, timesteps = transform_grid(path = '../Reanalysis_grid_Europe', \n",
    "                                               matrix_name = \"rr_ens_mean_0.1deg_reg_v20.0e.nc\", \n",
    "                                               calculate_days = True)\n",
    "save_netCDF(transformed_matrix, timesteps, '../Reanalysis_grid_Europe/Processed_grid/Precip_days.nc',\n",
    "            countries_tif = '../Reanalysis_grid_Europe/Country_bounds.tif',\n",
    "            land_tif = '../Reanalysis_grid_Europe/LandMatrix.tif')\n",
    "\n",
    "# Сумма осадков за первое полугодие\n",
    "transformed_matrix, timesteps = transform_grid(path = '../Reanalysis_grid_Europe', \n",
    "                                               matrix_name = \"rr_ens_mean_0.1deg_reg_v20.0e.nc\")\n",
    "save_netCDF(transformed_matrix, timesteps, '../Reanalysis_grid_Europe/Processed_grid/Precip_amount.nc',\n",
    "            countries_tif = '../Reanalysis_grid_Europe/Country_bounds.tif',\n",
    "            land_tif = '../Reanalysis_grid_Europe/LandMatrix.tif')\n",
    "\n",
    "# Среднее поле давления за первые полгода\n",
    "transformed_matrix, timesteps = transform_grid(path = '../Reanalysis_grid_Europe', \n",
    "                                               matrix_name = \"pp_ens_mean_0.1deg_reg_v20.0e.nc\")\n",
    "save_netCDF(transformed_matrix, timesteps, '../Reanalysis_grid_Europe/Processed_grid/Pressure_mean.nc',\n",
    "            countries_tif = '../Reanalysis_grid_Europe/Country_bounds.tif',\n",
    "            land_tif = '../Reanalysis_grid_Europe/LandMatrix.tif')\n",
    "\n",
    "# Максимальная температура воздуха, встречавшаяся за первые полгода\n",
    "transformed_matrix, timesteps = transform_grid(path = '../Reanalysis_grid_Europe', \n",
    "                                               matrix_name = \"tx_ens_mean_0.1deg_reg_v20.0e.nc\")\n",
    "save_netCDF(transformed_matrix, timesteps, '../Reanalysis_grid_Europe/Processed_grid/Temperature_max.nc',\n",
    "            countries_tif = '../Reanalysis_grid_Europe/Country_bounds.tif',\n",
    "            land_tif = '../Reanalysis_grid_Europe/LandMatrix.tif')\n",
    "\n",
    "# Сумма активных температур выше 10 градусов\n",
    "transformed_matrix, timesteps = transform_grid(path = '../Reanalysis_grid_Europe', \n",
    "                                               matrix_name = \"tg_ens_mean_0.1deg_reg_v20.0e.nc\")\n",
    "save_netCDF(transformed_matrix, timesteps, '../Reanalysis_grid_Europe/Processed_grid/Temperature_SAT.nc',\n",
    "            countries_tif = '../Reanalysis_grid_Europe/Country_bounds.tif',\n",
    "            land_tif = '../Reanalysis_grid_Europe/LandMatrix.tif')\n",
    "\n",
    "# Минимальная температура воздуха, встречавшаяся за первые полгода\n",
    "transformed_matrix, timesteps = transform_grid(path = '../Reanalysis_grid_Europe', \n",
    "                                               matrix_name = \"tn_ens_mean_0.1deg_reg_v20.0e.nc\")\n",
    "save_netCDF(transformed_matrix, timesteps, '../Reanalysis_grid_Europe/Processed_grid/Temperature_min.nc',\n",
    "            countries_tif = '../Reanalysis_grid_Europe/Country_bounds.tif',\n",
    "            land_tif = '../Reanalysis_grid_Europe/LandMatrix.tif')"
   ]
  },
  {
   "cell_type": "markdown",
   "metadata": {},
   "source": [
    "The result of the algorithm is netCDF files with parameter fields. The files also include a matrix of landscape types and a vector consisting of timestamps."
   ]
  },
  {
   "cell_type": "markdown",
   "metadata": {},
   "source": [
    "### Combining hydrometeorological information with yield data\n",
    "\n",
    "The received information about climate parameters is aggregated by country. Data is averaged for each country. A specially prepared country matrix is used for the aggregation procedure. The matrix has the same resolution as the reanalysis grid data.\n",
    "\n",
    "![Countries.png](https://raw.githubusercontent.com/Dreamlone/ITMO_Masters_degree/master/Images/img_2.png)\n",
    "\n",
    "Для создания растрового изображения со странами используется алгоритм:\n",
    "\n",
    "#### Rasterizer\n",
    "\n",
    "В качестве входных данных использется векторный слой с границами государств и матрица, разрешение и пространственную привязку с которой требуется скопировать. В результате работы получается растровое изображения формата geotiff."
   ]
  },
  {
   "cell_type": "code",
   "execution_count": null,
   "metadata": {},
   "outputs": [],
   "source": []
  },
  {
   "cell_type": "markdown",
   "metadata": {},
   "source": [
    "Естественно, не вся территория стран используется в качесстве сельскохозяйственных угодий."
   ]
  }
 ],
 "metadata": {
  "kernelspec": {
   "display_name": "Python 3",
   "language": "python",
   "name": "python3"
  },
  "language_info": {
   "codemirror_mode": {
    "name": "ipython",
    "version": 3
   },
   "file_extension": ".py",
   "mimetype": "text/x-python",
   "name": "python",
   "nbconvert_exporter": "python",
   "pygments_lexer": "ipython3",
   "version": "3.7.7"
  }
 },
 "nbformat": 4,
 "nbformat_minor": 4
}
